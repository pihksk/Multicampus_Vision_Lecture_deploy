{
 "cells": [
  {
   "cell_type": "markdown",
   "metadata": {},
   "source": [
    "<i><b>Public AI</b></i>\n",
    "<br>\n",
    "###  &nbsp;&nbsp; **✎&nbsp;&nbsp;Week 1. DNN Basis**\n",
    "# Section 2. Logistic Regression\n",
    "\n",
    "지난 시간에는 머신러닝의 지도학습 모델중 하나인 회귀 모델 중 가장 대표적인 선형 회귀(Linear Regression)에 대해 배워보았습니다. 이번 시간에는 머신러닝의 또다른 지도학습 모델인 분류 모델중 하나인 **로지스틱 회귀(Logistic Regression)**에 대해 배워보겠습니다. 로지스틱 회귀는 특징 정보 간의 관계를 선형적으로 조합한 후, 그 값을 확률값으로 바꾸어주는 머신러닝 모델입니다. 선형 회귀와 로지스틱 함수의 조합으로 구성되어 있어 분류모델이지만 로지스틱 회귀라고 부릅니다.\n",
    "\n",
    "### _Objective_\n",
    "1. **Logistic Function**: 분류 문제를 풀기 위해 알아야 할 기본적인 확률과 Logistic 함수에 대해서 알아봅니다. <br>\n",
    "2. **Cross Entropy**: 확률 분포의 차이를 구하는 Cross-Entropy에 대해 알아봅니다.<br>\n",
    "3. **Logistic Regression**: 분류 문제를 푸는 기본적인 머신러닝인 Logistic Regression에 대해 알아봅니다.<br>"
   ]
  },
  {
   "cell_type": "code",
   "execution_count": 1,
   "metadata": {},
   "outputs": [],
   "source": [
    "%matplotlib inline\n",
    "import os\n",
    "\n",
    "import numpy as np\n",
    "import pandas as pd\n",
    "\n",
    "import matplotlib.pyplot as plt\n",
    "\n",
    "# 예제 데이터셋 불러오기\n",
    "if not os.path.exists(\"cancer_dataset.csv\"):\n",
    "    !wget https://s3.ap-northeast-2.amazonaws.com/pai-datasets/alai-deeplearning/cancer_dataset.csv\n",
    "cancer_df = pd.read_csv('cancer_dataset.csv')"
   ]
  },
  {
   "cell_type": "markdown",
   "metadata": {},
   "source": [
    "# \\[ 1. Logistic Funtion\\]"
   ]
  },
  {
   "cell_type": "markdown",
   "metadata": {},
   "source": [
    "## 1. 확률의 정의\n",
    "\n",
    "----\n",
    "\n",
    "분류 문제를 풀기 위해서는, 회귀 문제와 달리 결과 값의 형태가 **확률(Probability)** 로 나타나야 합니다. <br>\n",
    "확률은 사건(부분집합)을 입력하면 숫자(확률값)으로 출력되는 함수입니다.\n",
    "\n",
    "<img src=\"https://i.imgur.com/X4E0EcO.png\" width=\"450\" height=\"450\"/><br>\n",
    "\n",
    "확률의 세가지 공리 (콜모고로프의 공리)\n",
    "1. 모든 사건에 대해 확률은 실수이고 0 또는 양수이다. \n",
    "$$\n",
    "P(A) >= 0\n",
    "$$\n",
    "2. 표본공간(전체집합)이라는 사건(부분집합)에 대한 확률은 1이다.\n",
    "$$\n",
    "P(\\Omega) = 1\n",
    "$$\n",
    "3. 공통 원소가 없는 두 사건의 합집합의 확률은 각각의 사건의 확률의 합이다.\n",
    "$$\n",
    "A \\cap B = \\emptyset \\rightarrow P(A\\cup B) = P(A) + P(B)\n",
    "$$\n",
    "\n",
    "\n",
    "결과 값의 형태가 확률로 나타나면, 우리는 결과를 **해석**할 수 있게 됩니다.<br>"
   ]
  },
  {
   "cell_type": "markdown",
   "metadata": {},
   "source": [
    "## 2. Odds Ratio\n",
    "\n",
    "Odds Ratio란, 해당 사건이 일어날 확률과 일어나지 않을 확률의 비율입니다.\n",
    "$$\n",
    "\\mbox{일어날 확률} = P(x) \\\\\n",
    "\\mbox{일어나지 않을 확률} = 1-P(x) \\\\\n",
    "\\mbox{Odds Ratio} = \\frac{\\mbox{일어날 확률}}{\\mbox{일어나지 않을 확률}} = \\frac{P(x)}{1-P(x)}\n",
    "$$\n"
   ]
  },
  {
   "cell_type": "code",
   "execution_count": 2,
   "metadata": {},
   "outputs": [
    {
     "data": {
      "image/png": "[encoded data removed]",
      "text/plain": [
       "<Figure size 432x288 with 1 Axes>"
      ]
     },
     "metadata": {
      "needs_background": "light"
     },
     "output_type": "display_data"
    }
   ],
   "source": [
    "probs = np.arange(0,1,0.01)\n",
    "odds = np.array([prob/(1-prob) for prob in probs])\n",
    "\n",
    "plt.plot(probs, odds)\n",
    "plt.title(\"Odds Ratio\")\n",
    "plt.xlabel('Prob')\n",
    "plt.ylabel('Odd')\n",
    "plt.show()"
   ]
  },
  {
   "cell_type": "markdown",
   "metadata": {},
   "source": [
    "Odds Ratio도 확률의 의미를 가지고 있습니다. Odds의 값이 클수록, 확률이 커지는 관계에 있습니다. <br>\n",
    "하지만 확률과 달리, 그 값의 범위가 $(0,\\infty )$입니다."
   ]
  },
  {
   "cell_type": "markdown",
   "metadata": {},
   "source": [
    "## 3. Logit Function\n",
    "\n",
    "Logit Function은 Odds Ratio에 Log를 씌운 함수입니다.\n",
    "$$\n",
    "\\mbox{logit(x)} = Z = log_e(\\frac{P(x)}{1-P(x)})\n",
    "$$\n"
   ]
  },
  {
   "cell_type": "code",
   "execution_count": 3,
   "metadata": {},
   "outputs": [
    {
     "name": "stderr",
     "output_type": "stream",
     "text": [
      "/Users/kimdoyeong/anaconda3/envs/py3.6/lib/python3.6/site-packages/ipykernel_launcher.py:2: RuntimeWarning: divide by zero encountered in log\n",
      "  \n"
     ]
    }
   ],
   "source": [
    "probs = np.arange(0,1,0.001)\n",
    "logits = np.array([np.log(prob/(1-prob)) for prob in probs])"
   ]
  },
  {
   "cell_type": "code",
   "execution_count": 4,
   "metadata": {},
   "outputs": [
    {
     "data": {
      "image/png": "[encoded data removed]",
      "text/plain": [
       "<Figure size 432x288 with 1 Axes>"
      ]
     },
     "metadata": {
      "needs_background": "light"
     },
     "output_type": "display_data"
    }
   ],
   "source": [
    "plt.plot(probs, logits)\n",
    "plt.title(\"logit Function\")\n",
    "plt.xlabel('Prob')\n",
    "plt.ylabel('logits')\n",
    "plt.show()"
   ]
  },
  {
   "cell_type": "markdown",
   "metadata": {},
   "source": [
    "Logit 함수는 출력 값의 범위가 실수 전체를 지칭하게 됩니다. Logit 함수는 확률 공간 $(0,1)$의 공간을 입력 공간으로 받고, 실수 공간$(-\\infty,\\infty)$의 공간을 출력 공간으로 가집니다."
   ]
  },
  {
   "cell_type": "markdown",
   "metadata": {},
   "source": [
    "## 4. Logistic(Sigmoid) Function\n",
    "\n",
    "Logistic 함수는 Logit 함수의 역함수 입니다.<br>\n",
    "아래는 유도과정입니다.<br>\n",
    "\n",
    "$\n",
    "\\begin{align}\n",
    "\\mbox{z} = log_e(\\frac{y}{1-y}) \\\\\n",
    "\\mbox{z} = - log_e(\\frac{1}{y}-1) \\\\\n",
    "\\mbox{z} = - log_e(\\frac{1}{y}-1) \\\\\n",
    "e^{-z} = \\frac{1}{y}-1  \\\\\n",
    "y(e^{-z}+1) = 1 \\\\\n",
    "y = \\frac{1}{1+e^{-z}} \\\\\n",
    "logistic(z) = \\frac{1}{1+e^{-z}}\n",
    "\\end{align}\n",
    "$\n"
   ]
  },
  {
   "cell_type": "markdown",
   "metadata": {},
   "source": [
    "이렇게 유도된 Logistic 함수는 입력 값으로 실수 전체의 공간을 받아 확률 공간(0,1)로 매칭시키는 함수입니다."
   ]
  },
  {
   "cell_type": "code",
   "execution_count": 5,
   "metadata": {},
   "outputs": [],
   "source": [
    "real_values = np.linspace(-1000,1000,100)\n",
    "logistics = np.array([1/(1+np.exp(-value)) for value in real_values])"
   ]
  },
  {
   "cell_type": "code",
   "execution_count": 6,
   "metadata": {},
   "outputs": [
    {
     "data": {
      "image/png": "[encoded data removed]",
      "text/plain": [
       "<Figure size 432x288 with 1 Axes>"
      ]
     },
     "metadata": {
      "needs_background": "light"
     },
     "output_type": "display_data"
    }
   ],
   "source": [
    "plt.plot(real_values, logistics)\n",
    "plt.title(\"logistic Function\")\n",
    "plt.xlabel('Real Value')\n",
    "plt.ylabel('Probs')\n",
    "plt.show()"
   ]
  },
  {
   "cell_type": "markdown",
   "metadata": {},
   "source": [
    "로지스틱 함수는 수학적으로 도출된 함수로, 실수 값 공간을 확률공간으로 변환할 때 주로 쓰입니다."
   ]
  },
  {
   "cell_type": "markdown",
   "metadata": {},
   "source": [
    "# \\[ 2. Cross Entropy \\]\n",
    "\n",
    "분류 문제의 오차는 실제값의 확률(0,1)과 예측값의 확률(0,1)의 차이입니다. 확률 간의 차이를 구하는 Cross Entropy에 대해 배워보겠습니다.\n",
    "\n",
    "\n",
    "참고 :\n",
    "1. [wiki - 정보 엔트로피](https://ko.wikipedia.org/wiki/%EC%A0%95%EB%B3%B4_%EC%97%94%ED%8A%B8%EB%A1%9C%ED%94%BC)\n",
    "2. [A short Introduction to Entropy, Cross-Entropy and KL-Divergence](https://www.youtube.com/watch?v=ErfnhcEV1O8)"
   ]
  },
  {
   "cell_type": "markdown",
   "metadata": {},
   "source": [
    "## 1. Entropy\n",
    "\n",
    "정보 이론에서는 모든 정보를 **확률(P)**로서 표현합니다.<br>"
   ]
  },
  {
   "cell_type": "markdown",
   "metadata": {},
   "source": [
    "### (1) 정보의 크기\n",
    "\n",
    "단일 정보의 중요도는 확률(P)이 낮을수록, 커지게 됩니다. <br>\n",
    "정보의 중요도는 $-log(P)$로 나타내게 됩니다.\n",
    "\n",
    "$$\n",
    "\\mbox{정보의 중요도} : h(x) = -logp(x) \n",
    "$$"
   ]
  },
  {
   "cell_type": "code",
   "execution_count": 7,
   "metadata": {},
   "outputs": [
    {
     "data": {
      "image/png": "[encoded data removed]",
      "text/plain": [
       "<Figure size 432x288 with 1 Axes>"
      ]
     },
     "metadata": {
      "needs_background": "light"
     },
     "output_type": "display_data"
    }
   ],
   "source": [
    "real_values = np.arange(1e-9,1,0.01)\n",
    "informations = -np.log(real_values)\n",
    "plt.plot(real_values,informations)\n",
    "plt.show()"
   ]
  },
  {
   "cell_type": "markdown",
   "metadata": {},
   "source": [
    "예를 들어 날씨가 자주 나빠지는 영국을 기준으로 정보의 중요도를 확인해보겠습니다.\n",
    "\n",
    "|  \\  | 오늘 아침 맑음 | 오늘 아침 흐림 | \n",
    "|----|----|----|\n",
    "|확률 | 0.1 | 0.9 |\n",
    "|중요도|$$-log(0.1)$$|$$-log(0.9)$$|"
   ]
  },
  {
   "cell_type": "code",
   "execution_count": 8,
   "metadata": {},
   "outputs": [
    {
     "name": "stdout",
     "output_type": "stream",
     "text": [
      "오늘 아침 맑다는 정보의 가치  :  2.3025850929940455\n",
      "오늘 아침 흐리다는 정보의 가치 :  0.10536051565782628\n"
     ]
    }
   ],
   "source": [
    "print(\"오늘 아침 맑다는 정보의 가치  : \",-np.log(0.1))\n",
    "print(\"오늘 아침 흐리다는 정보의 가치 : \",-np.log(0.9))"
   ]
  },
  {
   "cell_type": "markdown",
   "metadata": {},
   "source": [
    "위의 결과를 보면, 희소하게 발생하는 정보일수록 그 정보의 중요도는 커집니다."
   ]
  },
  {
   "cell_type": "markdown",
   "metadata": {},
   "source": [
    "정보의 중요도를 아래와 같이 구성하면 3가지 성질이 생깁니다.\n",
    "$$\n",
    "\\mbox{정보의 중요도} : h(x) = -logp(x) \n",
    "$$\n",
    "\n",
    "1. 발생 가능성이 큰 사건은 정보량이 적어야 한다. 극단적인 경우, 반드시 발생하는 사건에는 아무런 정보도 없어야 한다.\n",
    "2. 발생 가능성이 낮은 사건은 정보량이 많아야 한다.\n",
    "3. 개별 사건들의 정보량은 더할 수 있어야 한다. 예를 들어, 동전을 두 번 던져서 두 번 다 앞면이 나온 사건의 정보량은 동전을 한 번 던져서 앞면이 나온 사건의 정보량의 2배이어야 한다."
   ]
  },
  {
   "cell_type": "markdown",
   "metadata": {},
   "source": [
    "### (2) 엔트로피\n",
    "\n",
    "**Entropy**란, 정보의 기댓값을 의미합니다. 기댓값이란, 발생 확률과 그 크기의 곱의 평균을 뜻합니다. 엔트로피는 수식으로 아래와 같이 정의됩니다.\n",
    "\n",
    "$$\n",
    "\\mbox{entropy} : H[x] = -\\sum_{x}p(x)logp(x)\n",
    "$$"
   ]
  },
  {
   "cell_type": "markdown",
   "metadata": {},
   "source": [
    "위의 영국 날씨를 기준으로 엔트로피를 계산 해보면, \n",
    "\n",
    "|  \\  | 오늘 아침 맑음 | 오늘 아침 흐림 | \n",
    "|----|----|----|\n",
    "|확률 | 0.1 | 0.9 |\n",
    "|중요도|$$-log(0.1)$$|$$-log(0.9)$$|"
   ]
  },
  {
   "cell_type": "code",
   "execution_count": 9,
   "metadata": {},
   "outputs": [
    {
     "name": "stdout",
     "output_type": "stream",
     "text": [
      "영국 날씨의 엔트로피 : 0.325\n"
     ]
    }
   ],
   "source": [
    "entropy = (-0.1*np.log(0.1)) + (-0.9*np.log(0.9))\n",
    "print(\"영국 날씨의 엔트로피 : {:.3f}\".format(entropy))"
   ]
  },
  {
   "cell_type": "markdown",
   "metadata": {},
   "source": [
    "태국 날씨는 영국 날씨보다 더 기상천외하게 바뀝니다. 확률상으로 반반으로 날씨가 맑거나 흐립니다. 태국 날씨의 엔트로피는 어떻게 될까요?\n",
    "\n",
    "|  \\  | 오늘 아침 맑음 | 오늘 아침 흐림 | \n",
    "|----|----|----|\n",
    "|확률 | 0.5 | 0.5 |\n",
    "|중요도|$$-log(0.5)$$|$$-log(0.5)$$|"
   ]
  },
  {
   "cell_type": "code",
   "execution_count": 10,
   "metadata": {},
   "outputs": [
    {
     "name": "stdout",
     "output_type": "stream",
     "text": [
      "태국 날씨의 엔트로피 : 0.693\n"
     ]
    },
    {
     "name": "stderr",
     "output_type": "stream",
     "text": [
      "/Users/kimdoyeong/anaconda3/envs/py3.6/lib/python3.6/site-packages/ipykernel_launcher.py:9: RuntimeWarning: divide by zero encountered in log\n",
      "  if __name__ == '__main__':\n",
      "/Users/kimdoyeong/anaconda3/envs/py3.6/lib/python3.6/site-packages/ipykernel_launcher.py:9: RuntimeWarning: invalid value encountered in double_scalars\n",
      "  if __name__ == '__main__':\n"
     ]
    },
    {
     "data": {
      "text/plain": [
       "[<matplotlib.lines.Line2D at 0x11a29d518>]"
      ]
     },
     "execution_count": 10,
     "metadata": {},
     "output_type": "execute_result"
    },
    {
     "data": {
      "image/png": "[encoded data removed]",
      "text/plain": [
       "<Figure size 432x288 with 1 Axes>"
      ]
     },
     "metadata": {
      "needs_background": "light"
     },
     "output_type": "display_data"
    }
   ],
   "source": [
    "entropy = (-0.5*np.log(0.5)) + (-0.5*np.log(0.5))\n",
    "print(\"태국 날씨의 엔트로피 : {:.3f}\".format(entropy))\n",
    "\n",
    "\n",
    "entropys = []\n",
    "pxs = list(np.arange(0.0, 1.0 ,0.001))\n",
    "for px in pxs:\n",
    "    qx = 1 - px \n",
    "    entropy = (-px*np.log(px)) + (-qx*np.log(qx))\n",
    "    entropys.append(entropy)\n",
    "    \n",
    "plt.plot(pxs, entropys)"
   ]
  },
  {
   "cell_type": "markdown",
   "metadata": {},
   "source": [
    "태국 날씨의 엔트로피는 영국 날씨의 엔트로피보다 훨씬 큽니다. 태국의 날씨와 같이 예측하기 어려울수록 엔트로피의 크기는 커집니다. 엔트로피를 보통 **무질서의 정도**라고 설명하기도 합니다."
   ]
  },
  {
   "cell_type": "markdown",
   "metadata": {},
   "source": [
    "## 2. Cross-Entropy\n",
    "\n",
    "분류 문제의 오차는 실제값의 확률(0,1)과 예측값의 확률(0,1)의 차이입니다. 확률 간의 차이를 구하는 Cross Entropy에 대해 알아보겠습니다. Cross-Entropy는 분류 문제에서 사용되는 손실 함수입니다. 기존의 MSE는 주로 회귀 문제에 적용되고, Cross-Entropy는 분류 문제에 적용됩니다."
   ]
  },
  {
   "cell_type": "markdown",
   "metadata": {},
   "source": [
    "환자에게 암이 발병했는지에 대한 확률 분포($p(x)$)가 있다고 생각해봅시다.<br>\n",
    "환자가 실제로 암이 있을때의 실제 확률은 $p(x)=1$가 될 것이고, 환자에게 암이 없을때의 실제 확률은 $p(x)=0$이 될 것입니다."
   ]
  },
  {
   "cell_type": "code",
   "execution_count": 11,
   "metadata": {},
   "outputs": [
    {
     "data": {
      "text/html": [
       "<div>\n",
       "<style scoped>\n",
       "    .dataframe tbody tr th:only-of-type {\n",
       "        vertical-align: middle;\n",
       "    }\n",
       "\n",
       "    .dataframe tbody tr th {\n",
       "        vertical-align: top;\n",
       "    }\n",
       "\n",
       "    .dataframe thead th {\n",
       "        text-align: right;\n",
       "    }\n",
       "</style>\n",
       "<table border=\"1\" class=\"dataframe\">\n",
       "  <thead>\n",
       "    <tr style=\"text-align: right;\">\n",
       "      <th></th>\n",
       "      <th>age</th>\n",
       "      <th>tumor_size</th>\n",
       "      <th>label</th>\n",
       "      <th>p(x)</th>\n",
       "    </tr>\n",
       "  </thead>\n",
       "  <tbody>\n",
       "    <tr>\n",
       "      <th>0</th>\n",
       "      <td>2.170865</td>\n",
       "      <td>3.087710</td>\n",
       "      <td>0.0</td>\n",
       "      <td>0.0</td>\n",
       "    </tr>\n",
       "    <tr>\n",
       "      <th>1</th>\n",
       "      <td>8.000731</td>\n",
       "      <td>5.237815</td>\n",
       "      <td>1.0</td>\n",
       "      <td>1.0</td>\n",
       "    </tr>\n",
       "    <tr>\n",
       "      <th>2</th>\n",
       "      <td>5.248661</td>\n",
       "      <td>5.851058</td>\n",
       "      <td>1.0</td>\n",
       "      <td>1.0</td>\n",
       "    </tr>\n",
       "    <tr>\n",
       "      <th>3</th>\n",
       "      <td>3.433496</td>\n",
       "      <td>4.278379</td>\n",
       "      <td>0.0</td>\n",
       "      <td>0.0</td>\n",
       "    </tr>\n",
       "    <tr>\n",
       "      <th>4</th>\n",
       "      <td>2.365321</td>\n",
       "      <td>3.508396</td>\n",
       "      <td>0.0</td>\n",
       "      <td>0.0</td>\n",
       "    </tr>\n",
       "  </tbody>\n",
       "</table>\n",
       "</div>"
      ],
      "text/plain": [
       "        age  tumor_size  label  p(x)\n",
       "0  2.170865    3.087710    0.0   0.0\n",
       "1  8.000731    5.237815    1.0   1.0\n",
       "2  5.248661    5.851058    1.0   1.0\n",
       "3  3.433496    4.278379    0.0   0.0\n",
       "4  2.365321    3.508396    0.0   0.0"
      ]
     },
     "execution_count": 11,
     "metadata": {},
     "output_type": "execute_result"
    }
   ],
   "source": [
    "sample_df = cancer_df.head(5).copy()\n",
    "sample_df['p(x)'] = sample_df.label\n",
    "sample_df"
   ]
  },
  {
   "cell_type": "markdown",
   "metadata": {},
   "source": [
    "age와 tumor_size로 암 유무를 예측한 확률 분포($q(x)$)가 아래와 같다고 가정해보겠습니다."
   ]
  },
  {
   "cell_type": "code",
   "execution_count": 12,
   "metadata": {},
   "outputs": [
    {
     "data": {
      "text/html": [
       "<div>\n",
       "<style scoped>\n",
       "    .dataframe tbody tr th:only-of-type {\n",
       "        vertical-align: middle;\n",
       "    }\n",
       "\n",
       "    .dataframe tbody tr th {\n",
       "        vertical-align: top;\n",
       "    }\n",
       "\n",
       "    .dataframe thead th {\n",
       "        text-align: right;\n",
       "    }\n",
       "</style>\n",
       "<table border=\"1\" class=\"dataframe\">\n",
       "  <thead>\n",
       "    <tr style=\"text-align: right;\">\n",
       "      <th></th>\n",
       "      <th>age</th>\n",
       "      <th>tumor_size</th>\n",
       "      <th>label</th>\n",
       "      <th>p(x)</th>\n",
       "      <th>q(x)</th>\n",
       "    </tr>\n",
       "  </thead>\n",
       "  <tbody>\n",
       "    <tr>\n",
       "      <th>0</th>\n",
       "      <td>2.170865</td>\n",
       "      <td>3.087710</td>\n",
       "      <td>0.0</td>\n",
       "      <td>0.0</td>\n",
       "      <td>0.8</td>\n",
       "    </tr>\n",
       "    <tr>\n",
       "      <th>1</th>\n",
       "      <td>8.000731</td>\n",
       "      <td>5.237815</td>\n",
       "      <td>1.0</td>\n",
       "      <td>1.0</td>\n",
       "      <td>0.2</td>\n",
       "    </tr>\n",
       "    <tr>\n",
       "      <th>2</th>\n",
       "      <td>5.248661</td>\n",
       "      <td>5.851058</td>\n",
       "      <td>1.0</td>\n",
       "      <td>1.0</td>\n",
       "      <td>0.2</td>\n",
       "    </tr>\n",
       "    <tr>\n",
       "      <th>3</th>\n",
       "      <td>3.433496</td>\n",
       "      <td>4.278379</td>\n",
       "      <td>0.0</td>\n",
       "      <td>0.0</td>\n",
       "      <td>0.8</td>\n",
       "    </tr>\n",
       "    <tr>\n",
       "      <th>4</th>\n",
       "      <td>2.365321</td>\n",
       "      <td>3.508396</td>\n",
       "      <td>0.0</td>\n",
       "      <td>0.0</td>\n",
       "      <td>0.9</td>\n",
       "    </tr>\n",
       "  </tbody>\n",
       "</table>\n",
       "</div>"
      ],
      "text/plain": [
       "        age  tumor_size  label  p(x)  q(x)\n",
       "0  2.170865    3.087710    0.0   0.0   0.8\n",
       "1  8.000731    5.237815    1.0   1.0   0.2\n",
       "2  5.248661    5.851058    1.0   1.0   0.2\n",
       "3  3.433496    4.278379    0.0   0.0   0.8\n",
       "4  2.365321    3.508396    0.0   0.0   0.9"
      ]
     },
     "execution_count": 12,
     "metadata": {},
     "output_type": "execute_result"
    }
   ],
   "source": [
    "sample_df['q(x)'] = [0.8,0.2,0.2,0.8,0.9]\n",
    "sample_df"
   ]
  },
  {
   "cell_type": "markdown",
   "metadata": {},
   "source": [
    "실제 확률분포 p(x)와 예측한 확률분포 q(x)의 Entropy 차이는 어떻게 구해야 할까요?<br>\n",
    "그 차이는 KL-Divergence 식으로 구할 수 있습니다. KLD는 두 분포의 차이량에 대한 기대값을 표현합니다.\n",
    "\n",
    "$$\n",
    "KL(p||q) = \\sum p(x)logp(x) - p(x)logq(x)\n",
    "$$\n",
    "\n",
    "위의 경우에서 $p(x)$가 가지는 값은 0 또는 1뿐이므로 $p(x)logp(x)$는 항상 0이 됩니다.\n",
    "\n",
    "$$\n",
    "crossentropy(p,q) = \\sum -p(x)logq(x)\n",
    "$$\n",
    "\n",
    "이제 p의 값이 1일 때와 0일 때를 각각 구분지어서 보면,\n",
    "\n",
    "$$\n",
    "crossentropy(p,q) = -plogq-(1-p)log(1-q)\n",
    "$$"
   ]
  },
  {
   "cell_type": "code",
   "execution_count": 13,
   "metadata": {},
   "outputs": [
    {
     "name": "stdout",
     "output_type": "stream",
     "text": [
      "cross entropy 값 : 8.740\n"
     ]
    }
   ],
   "source": [
    "cross_entropy = -(\n",
    "1*np.log(0.2) + (1-0)*np.log(0.2) + (1)*np.log(0.2)\n",
    "+ 1*np.log(0.2) + 1*np.log(0.1))\n",
    "print(\"cross entropy 값 : {:.3f}\".format(cross_entropy))"
   ]
  },
  {
   "cell_type": "markdown",
   "metadata": {},
   "source": [
    "좀 더 성능이 좋아진 분류기를 통해 예측을 해보았다고 하면,"
   ]
  },
  {
   "cell_type": "code",
   "execution_count": 14,
   "metadata": {},
   "outputs": [
    {
     "data": {
      "text/html": [
       "<div>\n",
       "<style scoped>\n",
       "    .dataframe tbody tr th:only-of-type {\n",
       "        vertical-align: middle;\n",
       "    }\n",
       "\n",
       "    .dataframe tbody tr th {\n",
       "        vertical-align: top;\n",
       "    }\n",
       "\n",
       "    .dataframe thead th {\n",
       "        text-align: right;\n",
       "    }\n",
       "</style>\n",
       "<table border=\"1\" class=\"dataframe\">\n",
       "  <thead>\n",
       "    <tr style=\"text-align: right;\">\n",
       "      <th></th>\n",
       "      <th>age</th>\n",
       "      <th>tumor_size</th>\n",
       "      <th>label</th>\n",
       "      <th>p(x)</th>\n",
       "      <th>q(x)</th>\n",
       "      <th>q2(x)</th>\n",
       "    </tr>\n",
       "  </thead>\n",
       "  <tbody>\n",
       "    <tr>\n",
       "      <th>0</th>\n",
       "      <td>2.170865</td>\n",
       "      <td>3.087710</td>\n",
       "      <td>0.0</td>\n",
       "      <td>0.0</td>\n",
       "      <td>0.8</td>\n",
       "      <td>0.01</td>\n",
       "    </tr>\n",
       "    <tr>\n",
       "      <th>1</th>\n",
       "      <td>8.000731</td>\n",
       "      <td>5.237815</td>\n",
       "      <td>1.0</td>\n",
       "      <td>1.0</td>\n",
       "      <td>0.2</td>\n",
       "      <td>0.99</td>\n",
       "    </tr>\n",
       "    <tr>\n",
       "      <th>2</th>\n",
       "      <td>5.248661</td>\n",
       "      <td>5.851058</td>\n",
       "      <td>1.0</td>\n",
       "      <td>1.0</td>\n",
       "      <td>0.2</td>\n",
       "      <td>0.99</td>\n",
       "    </tr>\n",
       "    <tr>\n",
       "      <th>3</th>\n",
       "      <td>3.433496</td>\n",
       "      <td>4.278379</td>\n",
       "      <td>0.0</td>\n",
       "      <td>0.0</td>\n",
       "      <td>0.8</td>\n",
       "      <td>0.01</td>\n",
       "    </tr>\n",
       "    <tr>\n",
       "      <th>4</th>\n",
       "      <td>2.365321</td>\n",
       "      <td>3.508396</td>\n",
       "      <td>0.0</td>\n",
       "      <td>0.0</td>\n",
       "      <td>0.9</td>\n",
       "      <td>0.01</td>\n",
       "    </tr>\n",
       "  </tbody>\n",
       "</table>\n",
       "</div>"
      ],
      "text/plain": [
       "        age  tumor_size  label  p(x)  q(x)  q2(x)\n",
       "0  2.170865    3.087710    0.0   0.0   0.8   0.01\n",
       "1  8.000731    5.237815    1.0   1.0   0.2   0.99\n",
       "2  5.248661    5.851058    1.0   1.0   0.2   0.99\n",
       "3  3.433496    4.278379    0.0   0.0   0.8   0.01\n",
       "4  2.365321    3.508396    0.0   0.0   0.9   0.01"
      ]
     },
     "execution_count": 14,
     "metadata": {},
     "output_type": "execute_result"
    }
   ],
   "source": [
    "sample_df['q2(x)'] = [0.01,0.99,0.99,0.01,0.01]\n",
    "sample_df"
   ]
  },
  {
   "cell_type": "code",
   "execution_count": 15,
   "metadata": {},
   "outputs": [
    {
     "name": "stdout",
     "output_type": "stream",
     "text": [
      "cross entropy 값 : 0.050\n"
     ]
    }
   ],
   "source": [
    "cross_entropy = -(\n",
    "1*np.log(0.99) + (1-0)*np.log(1-0.01) + (1-0)*np.log(1-0.01)\n",
    "+ 1*np.log(0.99) + 1*np.log(0.99))\n",
    "print(\"cross entropy 값 : {:.3f}\".format(cross_entropy))"
   ]
  },
  {
   "cell_type": "markdown",
   "metadata": {},
   "source": [
    "cross entropy의 값은 크게 줄어든 것을 확인할 수 있습니다.<br>\n",
    "분류기의 학습은 이 Cross entropy가 줄어드는 방향으로 학습을 시키면 됩니다."
   ]
  },
  {
   "cell_type": "markdown",
   "metadata": {},
   "source": [
    "# \\[ 3. 로지스틱 회귀 \\]"
   ]
  },
  {
   "cell_type": "markdown",
   "metadata": {},
   "source": [
    "### 예제 데이터 ) 암 환자 데이터 셋"
   ]
  },
  {
   "cell_type": "code",
   "execution_count": 16,
   "metadata": {
    "scrolled": false
   },
   "outputs": [
    {
     "name": "stdout",
     "output_type": "stream",
     "text": [
      "--2020-01-08 18:22:24--  https://s3.ap-northeast-2.amazonaws.com/pai-datasets/alai-deeplearning/cancer_dataset.csv\n",
      "Resolving s3.ap-northeast-2.amazonaws.com... 52.219.58.53\n",
      "Connecting to s3.ap-northeast-2.amazonaws.com|52.219.58.53|:443... connected.\n",
      "HTTP request sent, awaiting response... 200 OK\n",
      "Length: 2958 (2.9K) [text/csv]\n",
      "Saving to: 'cancer_dataset.csv.2'\n",
      "\n",
      "cancer_dataset.csv. 100%[===================>]   2.89K  --.-KB/s    in 0s      \n",
      "\n",
      "2020-01-08 18:22:25 (57.6 MB/s) - 'cancer_dataset.csv.2' saved [2958/2958]\n",
      "\n"
     ]
    }
   ],
   "source": [
    "!wget https://s3.ap-northeast-2.amazonaws.com/pai-datasets/alai-deeplearning/cancer_dataset.csv\n",
    "cancer_df = pd.read_csv('cancer_dataset.csv')"
   ]
  },
  {
   "cell_type": "code",
   "execution_count": 17,
   "metadata": {},
   "outputs": [
    {
     "data": {
      "text/html": [
       "<div>\n",
       "<style scoped>\n",
       "    .dataframe tbody tr th:only-of-type {\n",
       "        vertical-align: middle;\n",
       "    }\n",
       "\n",
       "    .dataframe tbody tr th {\n",
       "        vertical-align: top;\n",
       "    }\n",
       "\n",
       "    .dataframe thead th {\n",
       "        text-align: right;\n",
       "    }\n",
       "</style>\n",
       "<table border=\"1\" class=\"dataframe\">\n",
       "  <thead>\n",
       "    <tr style=\"text-align: right;\">\n",
       "      <th></th>\n",
       "      <th>age</th>\n",
       "      <th>tumor_size</th>\n",
       "      <th>label</th>\n",
       "    </tr>\n",
       "  </thead>\n",
       "  <tbody>\n",
       "    <tr>\n",
       "      <th>count</th>\n",
       "      <td>100.000000</td>\n",
       "      <td>100.000000</td>\n",
       "      <td>100.00</td>\n",
       "    </tr>\n",
       "    <tr>\n",
       "      <th>mean</th>\n",
       "      <td>4.218584</td>\n",
       "      <td>4.463655</td>\n",
       "      <td>0.45</td>\n",
       "    </tr>\n",
       "    <tr>\n",
       "      <th>std</th>\n",
       "      <td>1.949688</td>\n",
       "      <td>2.264897</td>\n",
       "      <td>0.50</td>\n",
       "    </tr>\n",
       "    <tr>\n",
       "      <th>min</th>\n",
       "      <td>0.494542</td>\n",
       "      <td>0.656397</td>\n",
       "      <td>0.00</td>\n",
       "    </tr>\n",
       "    <tr>\n",
       "      <th>25%</th>\n",
       "      <td>2.750747</td>\n",
       "      <td>2.832193</td>\n",
       "      <td>0.00</td>\n",
       "    </tr>\n",
       "    <tr>\n",
       "      <th>50%</th>\n",
       "      <td>3.849528</td>\n",
       "      <td>3.766226</td>\n",
       "      <td>0.00</td>\n",
       "    </tr>\n",
       "    <tr>\n",
       "      <th>75%</th>\n",
       "      <td>5.405780</td>\n",
       "      <td>5.921538</td>\n",
       "      <td>1.00</td>\n",
       "    </tr>\n",
       "    <tr>\n",
       "      <th>max</th>\n",
       "      <td>9.670666</td>\n",
       "      <td>11.170589</td>\n",
       "      <td>1.00</td>\n",
       "    </tr>\n",
       "  </tbody>\n",
       "</table>\n",
       "</div>"
      ],
      "text/plain": [
       "              age  tumor_size   label\n",
       "count  100.000000  100.000000  100.00\n",
       "mean     4.218584    4.463655    0.45\n",
       "std      1.949688    2.264897    0.50\n",
       "min      0.494542    0.656397    0.00\n",
       "25%      2.750747    2.832193    0.00\n",
       "50%      3.849528    3.766226    0.00\n",
       "75%      5.405780    5.921538    1.00\n",
       "max      9.670666   11.170589    1.00"
      ]
     },
     "execution_count": 17,
     "metadata": {},
     "output_type": "execute_result"
    }
   ],
   "source": [
    "cancer_df.describe()"
   ]
  },
  {
   "cell_type": "markdown",
   "metadata": {},
   "source": [
    "### 데이터 시각화"
   ]
  },
  {
   "cell_type": "code",
   "execution_count": 18,
   "metadata": {
    "scrolled": false
   },
   "outputs": [
    {
     "data": {
      "image/png": "[encoded data removed]",
      "text/plain": [
       "<Figure size 504x504 with 1 Axes>"
      ]
     },
     "metadata": {
      "needs_background": "light"
     },
     "output_type": "display_data"
    }
   ],
   "source": [
    "fig = plt.figure(figsize=(7,7))\n",
    "ax = fig.add_subplot(1,1,1)\n",
    "\n",
    "# 0: 정상\n",
    "cancer_df[cancer_df.label==0].plot('age','tumor_size',ax=ax,legend=True,\n",
    "                                   kind='scatter',color='red')\n",
    "# 1: 암환자\n",
    "cancer_df[cancer_df.label==1].plot('age','tumor_size',ax=ax,legend=True,\n",
    "                                   kind='scatter',color='green')\n",
    "plt.legend(['Normal','Cancer'])\n",
    "plt.title(\"Cancer Or Not\")\n",
    "plt.show()"
   ]
  },
  {
   "cell_type": "markdown",
   "metadata": {},
   "source": [
    "## 1. 로지스틱 회귀식 설정하기\n",
    "\n",
    "현재 암환자 데이터셋의 독립변수로는 tumor_size($x_1$)와 age($x_2$)가 있고, 종속변수로는 label이 있습니다."
   ]
  },
  {
   "cell_type": "code",
   "execution_count": 19,
   "metadata": {},
   "outputs": [],
   "source": [
    "# MinMax Normalization 적용\n",
    "cancer_df = (cancer_df-cancer_df.min())/(cancer_df.max()-cancer_df.min())\n",
    "\n",
    "x_1 = cancer_df.tumor_size\n",
    "x_2 = cancer_df.age\n",
    "y = cancer_df.label\n",
    "\n",
    "# weight 모두 0~1로 초기화\n",
    "w_0,w_1,w_2 = np.random.random(3)"
   ]
  },
  {
   "cell_type": "markdown",
   "metadata": {},
   "source": [
    "로지스틱 회귀 모델은 아래의 두 단계로 이루어져 있습니다.<br>\n",
    "$\n",
    "z = w_0 + w_1x_1 + w_2x_2 \\\\\n",
    "y = \\frac{1}{1+e^{-z}}\n",
    "$"
   ]
  },
  {
   "cell_type": "code",
   "execution_count": 20,
   "metadata": {},
   "outputs": [],
   "source": [
    "z = w_0 + w_1*x_1 + w_2*x_2\n",
    "prob = 1/(1+np.exp(-z))"
   ]
  },
  {
   "cell_type": "code",
   "execution_count": 21,
   "metadata": {},
   "outputs": [
    {
     "data": {
      "image/png": "[encoded data removed]",
      "text/plain": [
       "<Figure size 432x288 with 1 Axes>"
      ]
     },
     "metadata": {
      "needs_background": "light"
     },
     "output_type": "display_data"
    }
   ],
   "source": [
    "plt.hist(prob)\n",
    "plt.show()"
   ]
  },
  {
   "cell_type": "markdown",
   "metadata": {},
   "source": [
    "prob의 값은 0과 1사이에 확률의 값으로 존재한다는 것을 알 수 있습니다."
   ]
  },
  {
   "cell_type": "markdown",
   "metadata": {},
   "source": [
    "## 2. 손실함수, 미분함수 정의하기"
   ]
  },
  {
   "cell_type": "markdown",
   "metadata": {},
   "source": [
    "### (1) 손실함수 정의하기\n",
    "\n",
    "손실함수의 식은 아래와 같이 정의할 수 있습니다.\n",
    "$$\n",
    "Loss(W) = \\frac{1}{m}\\sum_{i=1}^{m}CrossEntropy(y_{true},y_{pred})\\\\\n",
    "=- \\frac{1}{m}\\sum_{i=1}^{m}y_{true}log(y_{pred}) + (1-y_{true})(log(1-y_{pred}))\n",
    "$$"
   ]
  },
  {
   "cell_type": "code",
   "execution_count": 22,
   "metadata": {},
   "outputs": [
    {
     "data": {
      "text/plain": [
       "0.7472508875400561"
      ]
     },
     "execution_count": 22,
     "metadata": {},
     "output_type": "execute_result"
    }
   ],
   "source": [
    "crossentropy = -np.mean(y*np.log(prob) + (1-y)*np.log(1-prob))\n",
    "crossentropy"
   ]
  },
  {
   "cell_type": "markdown",
   "metadata": {},
   "source": [
    "### (2) 미분함수 정의하기\n",
    "\n",
    "위의 손실함수를 각 Weight 별로 미분해주면, 아래의 수식이 나타나게 됩니다.\n",
    "\n",
    "$$\n",
    "\\frac{\\partial Loss}{\\partial W_j} = \\frac{1}{m}\\sum_{i=1}^{m}(y_{pred}^i - y_{true}^i)x_j^i\n",
    "$$\n"
   ]
  },
  {
   "cell_type": "code",
   "execution_count": 23,
   "metadata": {},
   "outputs": [],
   "source": [
    "z = w_0 + (w_1*x_1) + (w_2*x_2)\n",
    "prob = 1/(1+np.exp(-z))\n",
    "\n",
    "dw0 = np.mean(prob-y)\n",
    "dw1 = np.mean((prob-y)*x_1)\n",
    "dw2 = np.mean((prob-y)*x_2)"
   ]
  },
  {
   "cell_type": "markdown",
   "metadata": {},
   "source": [
    "## 3. Gradient Descent로 학습하기\n",
    "\n",
    "학습을 위해 선형 회귀에서 적용했던 방식과 마찬가지로 경사하강법을 적용하면 됩니다.\n",
    "\n",
    "$$\n",
    "W_{new} = W_{old} - \\alpha * \\frac{\\partial loss}{\\partial W} \n",
    "$$\n",
    "\n",
    "학습률과 학습횟수는 아래와 같이 결정하겠습니다.\n",
    "\n",
    "1. learning Rate : 0.01\n",
    "2. Epoch : 100"
   ]
  },
  {
   "cell_type": "code",
   "execution_count": 24,
   "metadata": {},
   "outputs": [],
   "source": [
    "# weights를 모두 0~1 사이로 초기화시킴\n",
    "w_0,w_1,w_2 = np.random.random(3)\n",
    "\n",
    "loss_history = []\n",
    "\n",
    "# w0, w1, w2를 저장하는 것은 시각화를 위한 과정이니 무시하셔도 좋습니다\n",
    "w0s = []\n",
    "w1s = []\n",
    "w2s = []\n",
    "\n",
    "alpha = 1e-1 # 학습률\n",
    "epoch = 100\n",
    "\n",
    "for i in range(epoch):\n",
    "    # dw0, dw1, dw2 구하기\n",
    "    z = w_0 + (w_1*x_1) + (w_2*x_2)\n",
    "    prob = 1/(1+np.exp(-z))\n",
    "    \n",
    "    dw0 = np.mean(prob-y)\n",
    "    dw1 = np.mean((prob-y)*x_1)\n",
    "    dw2 = np.mean((prob-y)*x_2)\n",
    "    \n",
    "    # weight 갱신 (Gradient Descent)\n",
    "    w_0 = w_0 - alpha * dw0\n",
    "    w_1 = w_1 - alpha * dw1\n",
    "    w_2 = w_2 - alpha * dw2\n",
    "    \n",
    "    # loss (cee)    \n",
    "    crossentropy = -np.mean(y*np.log(prob) + (1-y)*np.log(1-prob))\n",
    "    loss_history.append(crossentropy)\n",
    "    \n",
    "    # 학습과는 관련이 없는 시각화를 위한 과정입니다. 무시하셔도 좋습니다.\n",
    "    w0s.append(w_0)\n",
    "    w1s.append(w_1)\n",
    "    w2s.append(w_2)"
   ]
  },
  {
   "cell_type": "markdown",
   "metadata": {},
   "source": [
    "## 4. 결과 확인하기"
   ]
  },
  {
   "cell_type": "markdown",
   "metadata": {},
   "source": [
    "### (1) 손실함수 그래프"
   ]
  },
  {
   "cell_type": "code",
   "execution_count": 25,
   "metadata": {},
   "outputs": [
    {
     "data": {
      "image/png": "[encoded data removed]",
      "text/plain": [
       "<Figure size 432x288 with 1 Axes>"
      ]
     },
     "metadata": {
      "needs_background": "light"
     },
     "output_type": "display_data"
    }
   ],
   "source": [
    "plt.title(\"Loss Function\")\n",
    "plt.plot(loss_history)\n",
    "plt.show()"
   ]
  },
  {
   "cell_type": "markdown",
   "metadata": {},
   "source": [
    "### (2) 정답값과 예측값의 비교\n",
    "\n",
    "$$\n",
    "z = w_0 + w_1x_1 + w_2x_2 \\\\\n",
    "y = \\frac{1}{1+e^{-z}}\n",
    "$$\n",
    "\n",
    "위 식에서 $y = 0.5$일 때, $z=0$이 됩니다. 즉 암을 판별하는 경계선은\n",
    "\n",
    "$$\n",
    "0 = w_0 + w_1x_1 + w_2x_2\n",
    "$$\n",
    "\n",
    "가 됩니다."
   ]
  },
  {
   "cell_type": "code",
   "execution_count": 26,
   "metadata": {},
   "outputs": [],
   "source": [
    "# 아래 부분들은 시각화를 위한 과정입니다. 무시하셔도 좋습니다.\n",
    "new_w0 = w0s[-1]\n",
    "new_w1 = w1s[-1]\n",
    "new_w2 = w2s[-1]\n",
    "\n",
    "x_0 = [-new_w0/new_w1,0] # x_1 절편\n",
    "y_0 = [0,-new_w0/new_w2] # x_2 절편"
   ]
  },
  {
   "cell_type": "code",
   "execution_count": 27,
   "metadata": {
    "scrolled": false
   },
   "outputs": [
    {
     "data": {
      "image/png": "[encoded data removed]",
      "text/plain": [
       "<Figure size 504x504 with 1 Axes>"
      ]
     },
     "metadata": {
      "needs_background": "light"
     },
     "output_type": "display_data"
    }
   ],
   "source": [
    "fig = plt.figure(figsize=(7,7))\n",
    "ax = fig.add_subplot(1,1,1)\n",
    "ax.plot(x_0,y_0) # Decision boundary 그리기\n",
    "\n",
    "# 0: 정상\n",
    "cancer_df[cancer_df.label==0].plot('age','tumor_size',ax=ax,legend=True,\n",
    "                                   kind='scatter',color='red')\n",
    "# 1: 암환자\n",
    "cancer_df[cancer_df.label==1].plot('age','tumor_size',ax=ax,legend=True,\n",
    "                                   kind='scatter',color='green')\n",
    "plt.legend([\"decision\",'Normal','Cancer'])\n",
    "plt.title(\"Cancer Or Not\")\n",
    "plt.show()"
   ]
  },
  {
   "cell_type": "markdown",
   "metadata": {},
   "source": [
    "#  \n",
    "\n",
    "---\n",
    "\n",
    "    Copyright(c) 2019 by Public AI. All rights reserved.\n",
    "    Writen by PAI, SangJae Kang ( rocketgrowthsj@publicai.co.kr )  last updated on 2019/09/16\n",
    "\n",
    "\n",
    "---"
   ]
  }
 ],
 "metadata": {
  "kernelspec": {
   "display_name": "Python 3",
   "language": "python",
   "name": "python3"
  },
  "language_info": {
   "codemirror_mode": {
    "name": "ipython",
    "version": 3
   },
   "file_extension": ".py",
   "mimetype": "text/x-python",
   "name": "python",
   "nbconvert_exporter": "python",
   "pygments_lexer": "ipython3",
   "version": "3.6.8"
  }
 },
 "nbformat": 4,
 "nbformat_minor": 2
}
